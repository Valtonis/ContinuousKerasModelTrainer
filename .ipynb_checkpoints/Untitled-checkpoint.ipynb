{
 "cells": [
  {
   "cell_type": "code",
   "execution_count": 44,
   "metadata": {},
   "outputs": [
    {
     "data": {
      "text/plain": [
       "<sqlite3.Cursor at 0x7ff71c1890a0>"
      ]
     },
     "execution_count": 44,
     "metadata": {},
     "output_type": "execute_result"
    }
   ],
   "source": [
    "import sqlite3\n",
    "import numpy as np\n",
    "import io\n",
    "\n",
    "def adapt_array(arr):\n",
    "    \"\"\"\n",
    "    http://stackoverflow.com/a/31312102/190597 (SoulNibbler)\n",
    "    \"\"\"\n",
    "    out = io.BytesIO()\n",
    "    np.save(out, arr)\n",
    "    out.seek(0)\n",
    "    return sqlite3.Binary(out.read())\n",
    "\n",
    "def convert_array(text):\n",
    "    out = io.BytesIO(text)\n",
    "    out.seek(0)\n",
    "    return np.load(out)\n",
    "\n",
    "\n",
    "# Converts np.array to TEXT when inserting\n",
    "sqlite3.register_adapter(np.ndarray, adapt_array)\n",
    "\n",
    "# Converts TEXT to np.array when selecting\n",
    "sqlite3.register_converter(\"array\", convert_array)\n",
    "\n",
    "x = np.array([[1.2, 3.6], [2, 5.7]])\n",
    "\n",
    "con = sqlite3.connect('db/test.db', detect_types=sqlite3.PARSE_DECLTYPES)\n",
    "cur = con.cursor()\n",
    "cur.execute(\"create table test (arr array)\")"
   ]
  },
  {
   "cell_type": "code",
   "execution_count": 45,
   "metadata": {},
   "outputs": [
    {
     "data": {
      "text/plain": [
       "<sqlite3.Cursor at 0x7ff71c1890a0>"
      ]
     },
     "execution_count": 45,
     "metadata": {},
     "output_type": "execute_result"
    }
   ],
   "source": [
    "cur.execute(\"insert into test (arr) values (?)\", (x, ))"
   ]
  },
  {
   "cell_type": "code",
   "execution_count": 46,
   "metadata": {},
   "outputs": [
    {
     "name": "stdout",
     "output_type": "stream",
     "text": [
      "[[1.2 3.6]\n",
      " [2.  5.7]]\n"
     ]
    }
   ],
   "source": [
    "cur.execute(\"select arr from test\")\n",
    "data = cur.fetchone()[0]\n",
    "\n",
    "print(data)"
   ]
  },
  {
   "cell_type": "code",
   "execution_count": 47,
   "metadata": {},
   "outputs": [
    {
     "name": "stdout",
     "output_type": "stream",
     "text": [
      "<class 'numpy.ndarray'>\n"
     ]
    }
   ],
   "source": [
    "print(type(data))"
   ]
  },
  {
   "cell_type": "code",
   "execution_count": null,
   "metadata": {
    "collapsed": true
   },
   "outputs": [],
   "source": [
    "import sqlite3\n",
    "import numpy as np\n",
    "import io\n",
    "\n",
    "def padSequence(sequence, necessaryNumberOfWordsInDocument):\n",
    "    if len(sequence) == 0:\n",
    "        return None\n",
    "    wordVectorLength = None\n",
    "    res = None\n",
    "    dtype = sequence[0].dtype\n",
    "    if len(sequence[0].shape) == 2:\n",
    "        wordVectorLength = sequence[0].shape[-1]\n",
    "        res = np.zeros(shape=(len(sequence), necessaryNumberOfWordsInDocument, wordVectorLength), dtype=dtype)\n",
    "    else:\n",
    "        wordVectorLength = 1\n",
    "        res = np.zeros(shape=(len(sequence), necessaryNumberOfWordsInDocument), dtype=dtype)\n",
    "    i = 0\n",
    "    while i < len(sequence):\n",
    "        realNumberOfWordsInDocument = sequence[i].shape[0]\n",
    "        difference = necessaryNumberOfWordsInDocument - realNumberOfWordsInDocument\n",
    "        if difference > 0:\n",
    "            res[i] = np.insert(sequence[i], [0] * difference, 0, axis=0)\n",
    "        else:\n",
    "            difference *= -1\n",
    "            #res[i] = np.delete(sequence[i], [-1] * difference, axis=0)\n",
    "            seqLen = len(sequence[i])\n",
    "            res[i] = np.delete(sequence[i], [seqLen - g - 1 for g in range(difference)], axis=0)\n",
    "        i += 1\n",
    "    return res\n",
    "\n",
    "# getting data from sqlite3 databases. table in database should have three columns id, X, y\n",
    "\n",
    "class DataPullerFromSqlite3(DataPuller):\n",
    "    def __init__(self, databaseFilename, tableName, padSize):\n",
    "        def adapt_array(arr):\n",
    "            \"\"\"\n",
    "            http://stackoverflow.com/a/31312102/190597 (SoulNibbler)\n",
    "            \"\"\"\n",
    "            out = io.BytesIO()\n",
    "            np.save(out, arr)\n",
    "            out.seek(0)\n",
    "            return sqlite3.Binary(out.read())\n",
    "\n",
    "        def convert_array(text):\n",
    "            out = io.BytesIO(text)\n",
    "            out.seek(0)\n",
    "            return np.load(out)\n",
    "\n",
    "\n",
    "        # Converts np.array to TEXT when inserting\n",
    "        sqlite3.register_adapter(np.ndarray, adapt_array)\n",
    "\n",
    "        # Converts TEXT to np.array when selecting\n",
    "        sqlite3.register_converter(\"numpyArray\", convert_array)\n",
    "        \n",
    "        self.__databaseFilename = databaseFilename\n",
    "        self.__tableName = tableName\n",
    "        self.__padSize = padSize\n",
    "        \n",
    "        with sqlite3.connect(self.__databaseFilename, detect_types=sqlite3.PARSE_DECLTYPES) as cur:\n",
    "            cur.execute(\"SELECT COUNT(*) FROM %s\", self.__tableName)\n",
    "            self.__numberOfRecords = cur.fetchone()[0]\n",
    "    \n",
    "    def getData(self, indexList):\n",
    "        with sqlite3.connect(self.__databaseFilename, detect_types=sqlite3.PARSE_DECLTYPES) as cur:\n",
    "            indexString = \"\"\n",
    "            for index in indexList:\n",
    "                indexString += str(index) + \",\"\n",
    "            indexString = indexString[:-1]\n",
    "            cur.execute(\"SELECT X, y FROM %s WHERE id IN (%s)\", self.__tableName, indexString)\n",
    "            X = []\n",
    "            y = []\n",
    "            for rec in cur:\n",
    "                X.append(rec[0])\n",
    "                y.append(rec[1])\n",
    "            X = padSequence(X, self.__padSize)\n",
    "            return (X, y)\n",
    "        return None\n",
    "    \n",
    "    def getNumberOfRecords(self):\n",
    "        return self.__numberOfRecords\n",
    "            \n",
    "        \n",
    "    __databaseFilename = None\n",
    "    __tableName = None\n",
    "    __padSize = None\n",
    "    __numberOfRecords = None"
   ]
  }
 ],
 "metadata": {
  "kernelspec": {
   "display_name": "keras",
   "language": "python",
   "name": "keras"
  },
  "language_info": {
   "codemirror_mode": {
    "name": "ipython",
    "version": 3
   },
   "file_extension": ".py",
   "mimetype": "text/x-python",
   "name": "python",
   "nbconvert_exporter": "python",
   "pygments_lexer": "ipython3",
   "version": "3.5.4"
  }
 },
 "nbformat": 4,
 "nbformat_minor": 2
}
